{
 "cells": [
  {
   "cell_type": "code",
   "execution_count": 1,
   "id": "f2d15407",
   "metadata": {
    "_cell_guid": "b1076dfc-b9ad-4769-8c92-a6c4dae69d19",
    "_uuid": "8f2839f25d086af736a60e9eeb907d3b93b6e0e5",
    "execution": {
     "iopub.execute_input": "2024-08-16T08:59:17.612212Z",
     "iopub.status.busy": "2024-08-16T08:59:17.611773Z",
     "iopub.status.idle": "2024-08-16T08:59:18.634994Z",
     "shell.execute_reply": "2024-08-16T08:59:18.633794Z"
    },
    "papermill": {
     "duration": 1.035206,
     "end_time": "2024-08-16T08:59:18.637989",
     "exception": false,
     "start_time": "2024-08-16T08:59:17.602783",
     "status": "completed"
    },
    "tags": []
   },
   "outputs": [],
   "source": [
    "# This Python 3 environment comes with many helpful analytics libraries installed\n",
    "# It is defined by the kaggle/python Docker image: https://github.com/kaggle/docker-python\n",
    "# For example, here's several helpful packages to load\n",
    "\n",
    "import numpy as np # linear algebra\n",
    "import pandas as pd # data processing, CSV file I/O (e.g. pd.read_csv)\n",
    "\n",
    "# Input data files are available in the read-only \"../input/\" directory\n",
    "# For example, running this (by clicking run or pressing Shift+Enter) will list all files under the input directory\n",
    "\n",
    "import os\n",
    "for dirname, _, filenames in os.walk('/kaggle/input'):\n",
    "    for filename in filenames:\n",
    "        print(os.path.join(dirname, filename))\n",
    "\n",
    "# You can write up to 20GB to the current directory (/kaggle/working/) that gets preserved as output when you create a version using \"Save & Run All\" \n",
    "# You can also write temporary files to /kaggle/temp/, but they won't be saved outside of the current session"
   ]
  },
  {
   "cell_type": "code",
   "execution_count": 2,
   "id": "8087dc40",
   "metadata": {
    "execution": {
     "iopub.execute_input": "2024-08-16T08:59:18.654435Z",
     "iopub.status.busy": "2024-08-16T08:59:18.653858Z",
     "iopub.status.idle": "2024-08-16T08:59:18.660061Z",
     "shell.execute_reply": "2024-08-16T08:59:18.658693Z"
    },
    "papermill": {
     "duration": 0.017768,
     "end_time": "2024-08-16T08:59:18.663209",
     "exception": false,
     "start_time": "2024-08-16T08:59:18.645441",
     "status": "completed"
    },
    "tags": []
   },
   "outputs": [
    {
     "name": "stdout",
     "output_type": "stream",
     "text": [
      "What's up\n"
     ]
    }
   ],
   "source": [
    "print(\"What's up\")"
   ]
  },
  {
   "cell_type": "code",
   "execution_count": 3,
   "id": "97240a05",
   "metadata": {
    "execution": {
     "iopub.execute_input": "2024-08-16T08:59:18.679706Z",
     "iopub.status.busy": "2024-08-16T08:59:18.679211Z",
     "iopub.status.idle": "2024-08-16T08:59:18.685792Z",
     "shell.execute_reply": "2024-08-16T08:59:18.684479Z"
    },
    "papermill": {
     "duration": 0.018648,
     "end_time": "2024-08-16T08:59:18.688986",
     "exception": false,
     "start_time": "2024-08-16T08:59:18.670338",
     "status": "completed"
    },
    "tags": []
   },
   "outputs": [
    {
     "name": "stdout",
     "output_type": "stream",
     "text": [
      "90.66666666666667\n"
     ]
    }
   ],
   "source": [
    "print(544 / 6)"
   ]
  },
  {
   "cell_type": "code",
   "execution_count": 4,
   "id": "4ffc1c12",
   "metadata": {
    "execution": {
     "iopub.execute_input": "2024-08-16T08:59:18.705624Z",
     "iopub.status.busy": "2024-08-16T08:59:18.705110Z",
     "iopub.status.idle": "2024-08-16T08:59:18.711150Z",
     "shell.execute_reply": "2024-08-16T08:59:18.709737Z"
    },
    "papermill": {
     "duration": 0.017944,
     "end_time": "2024-08-16T08:59:18.714158",
     "exception": false,
     "start_time": "2024-08-16T08:59:18.696214",
     "status": "completed"
    },
    "tags": []
   },
   "outputs": [
    {
     "name": "stdout",
     "output_type": "stream",
     "text": [
      "1296\n"
     ]
    }
   ],
   "source": [
    "# Mulitply 18 by 72\n",
    "print(18 * 72)"
   ]
  },
  {
   "cell_type": "code",
   "execution_count": 5,
   "id": "8e8adcec",
   "metadata": {
    "execution": {
     "iopub.execute_input": "2024-08-16T08:59:18.731266Z",
     "iopub.status.busy": "2024-08-16T08:59:18.730820Z",
     "iopub.status.idle": "2024-08-16T08:59:18.737274Z",
     "shell.execute_reply": "2024-08-16T08:59:18.735819Z"
    },
    "papermill": {
     "duration": 0.018572,
     "end_time": "2024-08-16T08:59:18.740061",
     "exception": false,
     "start_time": "2024-08-16T08:59:18.721489",
     "status": "completed"
    },
    "tags": []
   },
   "outputs": [
    {
     "name": "stdout",
     "output_type": "stream",
     "text": [
      "2\n"
     ]
    }
   ],
   "source": [
    "# Creating a variable called Nut\n",
    "Nut = 1 + 1\n",
    "\n",
    "# Printing Nut\n",
    "print(Nut)"
   ]
  },
  {
   "cell_type": "code",
   "execution_count": 6,
   "id": "1a675574",
   "metadata": {
    "execution": {
     "iopub.execute_input": "2024-08-16T08:59:18.756584Z",
     "iopub.status.busy": "2024-08-16T08:59:18.756180Z",
     "iopub.status.idle": "2024-08-16T08:59:18.762954Z",
     "shell.execute_reply": "2024-08-16T08:59:18.761444Z"
    },
    "papermill": {
     "duration": 0.018236,
     "end_time": "2024-08-16T08:59:18.765764",
     "exception": false,
     "start_time": "2024-08-16T08:59:18.747528",
     "status": "completed"
    },
    "tags": []
   },
   "outputs": [
    {
     "name": "stdout",
     "output_type": "stream",
     "text": [
      "10\n",
      "100\n"
     ]
    }
   ],
   "source": [
    "# Make another variable called Sigma\n",
    "Sigma = 10\n",
    "\n",
    "# Print Sigma\n",
    "print(Sigma)\n",
    "\n",
    "# Override Sigma value\n",
    "Sigma = 100\n",
    "\n",
    "# Print Sigma\n",
    "print(Sigma)"
   ]
  },
  {
   "cell_type": "code",
   "execution_count": 7,
   "id": "382647e8",
   "metadata": {
    "execution": {
     "iopub.execute_input": "2024-08-16T08:59:18.782535Z",
     "iopub.status.busy": "2024-08-16T08:59:18.782077Z",
     "iopub.status.idle": "2024-08-16T08:59:18.788522Z",
     "shell.execute_reply": "2024-08-16T08:59:18.787181Z"
    },
    "papermill": {
     "duration": 0.01831,
     "end_time": "2024-08-16T08:59:18.791415",
     "exception": false,
     "start_time": "2024-08-16T08:59:18.773105",
     "status": "completed"
    },
    "tags": []
   },
   "outputs": [
    {
     "name": "stdout",
     "output_type": "stream",
     "text": [
      "2\n",
      "100\n"
     ]
    }
   ],
   "source": [
    "# Print Nut & Sigma\n",
    "print(Nut)\n",
    "print(Sigma)"
   ]
  },
  {
   "cell_type": "code",
   "execution_count": 8,
   "id": "faca8908",
   "metadata": {
    "execution": {
     "iopub.execute_input": "2024-08-16T08:59:18.808497Z",
     "iopub.status.busy": "2024-08-16T08:59:18.808035Z",
     "iopub.status.idle": "2024-08-16T08:59:18.814872Z",
     "shell.execute_reply": "2024-08-16T08:59:18.813553Z"
    },
    "papermill": {
     "duration": 0.018808,
     "end_time": "2024-08-16T08:59:18.817834",
     "exception": false,
     "start_time": "2024-08-16T08:59:18.799026",
     "status": "completed"
    },
    "tags": []
   },
   "outputs": [
    {
     "name": "stdout",
     "output_type": "stream",
     "text": [
      "103\n"
     ]
    }
   ],
   "source": [
    "# Increase Sigma by 3\n",
    "Sigma = Sigma + 3\n",
    "\n",
    "# Print Sigma\n",
    "print(Sigma)"
   ]
  },
  {
   "cell_type": "code",
   "execution_count": 9,
   "id": "e2a6228b",
   "metadata": {
    "execution": {
     "iopub.execute_input": "2024-08-16T08:59:18.835130Z",
     "iopub.status.busy": "2024-08-16T08:59:18.834668Z",
     "iopub.status.idle": "2024-08-16T08:59:18.841834Z",
     "shell.execute_reply": "2024-08-16T08:59:18.840518Z"
    },
    "papermill": {
     "duration": 0.018831,
     "end_time": "2024-08-16T08:59:18.844424",
     "exception": false,
     "start_time": "2024-08-16T08:59:18.825593",
     "status": "completed"
    },
    "tags": []
   },
   "outputs": [
    {
     "name": "stdout",
     "output_type": "stream",
     "text": [
      "3153600000\n"
     ]
    }
   ],
   "source": [
    "# Creating vaiables\n",
    "num_years = 100\n",
    "days_per_year = 365\n",
    "hours_per_day = 24\n",
    "mins_per_hour = 60\n",
    "secs_per_min = 60\n",
    "\n",
    "# Calculate the amount of seconds in 100 years\n",
    "total_secs = secs_per_min * mins_per_hour * hours_per_day * days_per_year * num_years\n",
    "print(total_secs)"
   ]
  },
  {
   "cell_type": "code",
   "execution_count": 10,
   "id": "deb94967",
   "metadata": {
    "execution": {
     "iopub.execute_input": "2024-08-16T08:59:18.863365Z",
     "iopub.status.busy": "2024-08-16T08:59:18.861982Z",
     "iopub.status.idle": "2024-08-16T08:59:18.869188Z",
     "shell.execute_reply": "2024-08-16T08:59:18.867716Z"
    },
    "papermill": {
     "duration": 0.019716,
     "end_time": "2024-08-16T08:59:18.871842",
     "exception": false,
     "start_time": "2024-08-16T08:59:18.852126",
     "status": "completed"
    },
    "tags": []
   },
   "outputs": [
    {
     "name": "stdout",
     "output_type": "stream",
     "text": [
      "3155760000.0\n"
     ]
    }
   ],
   "source": [
    "# Update to inclued leap years\n",
    "days_per_year = 365.25\n",
    "\n",
    "# Recalculate number of seconds in a year\n",
    "total_secs = secs_per_min * mins_per_hour * hours_per_day * days_per_year * num_years\n",
    "print(total_secs)"
   ]
  },
  {
   "cell_type": "code",
   "execution_count": 11,
   "id": "6c9bf4d2",
   "metadata": {
    "execution": {
     "iopub.execute_input": "2024-08-16T08:59:18.889756Z",
     "iopub.status.busy": "2024-08-16T08:59:18.889319Z",
     "iopub.status.idle": "2024-08-16T08:59:18.895049Z",
     "shell.execute_reply": "2024-08-16T08:59:18.893867Z"
    },
    "papermill": {
     "duration": 0.018428,
     "end_time": "2024-08-16T08:59:18.898145",
     "exception": false,
     "start_time": "2024-08-16T08:59:18.879717",
     "status": "completed"
    },
    "tags": []
   },
   "outputs": [],
   "source": [
    "def add_three(Nut):\n",
    "    output_var = Nut + 3    \n",
    "    return output_var"
   ]
  },
  {
   "cell_type": "code",
   "execution_count": 12,
   "id": "5a589c23",
   "metadata": {
    "execution": {
     "iopub.execute_input": "2024-08-16T08:59:18.915706Z",
     "iopub.status.busy": "2024-08-16T08:59:18.915285Z",
     "iopub.status.idle": "2024-08-16T08:59:18.922042Z",
     "shell.execute_reply": "2024-08-16T08:59:18.920543Z"
    },
    "papermill": {
     "duration": 0.018759,
     "end_time": "2024-08-16T08:59:18.924828",
     "exception": false,
     "start_time": "2024-08-16T08:59:18.906069",
     "status": "completed"
    },
    "tags": []
   },
   "outputs": [
    {
     "name": "stdout",
     "output_type": "stream",
     "text": [
      "13\n"
     ]
    }
   ],
   "source": [
    "# Run the function with 10 as the input\n",
    "New_number = add_three(10)\n",
    "\n",
    "#Check the value is 13, as expected\n",
    "print(New_number)"
   ]
  },
  {
   "cell_type": "code",
   "execution_count": 13,
   "id": "a3405af5",
   "metadata": {
    "execution": {
     "iopub.execute_input": "2024-08-16T08:59:18.942973Z",
     "iopub.status.busy": "2024-08-16T08:59:18.942561Z",
     "iopub.status.idle": "2024-08-16T08:59:18.949553Z",
     "shell.execute_reply": "2024-08-16T08:59:18.948148Z"
    },
    "papermill": {
     "duration": 0.01989,
     "end_time": "2024-08-16T08:59:18.952815",
     "exception": false,
     "start_time": "2024-08-16T08:59:18.932925",
     "status": "completed"
    },
    "tags": []
   },
   "outputs": [],
   "source": [
    "def get_pay(num_hours):\n",
    "    # Pre-tax pay, before based on reciving $15/hour\n",
    "    pay_pretax = num_hours * 15\n",
    "    # After-tax pay, based on being in 12% brackets\n",
    "    pay_aftertax = pay_pretax * (1 -.12)\n",
    "    return pay_aftertax"
   ]
  },
  {
   "cell_type": "code",
   "execution_count": 14,
   "id": "436b5cab",
   "metadata": {
    "execution": {
     "iopub.execute_input": "2024-08-16T08:59:18.972719Z",
     "iopub.status.busy": "2024-08-16T08:59:18.972236Z",
     "iopub.status.idle": "2024-08-16T08:59:18.978964Z",
     "shell.execute_reply": "2024-08-16T08:59:18.977603Z"
    },
    "papermill": {
     "duration": 0.019594,
     "end_time": "2024-08-16T08:59:18.981779",
     "exception": false,
     "start_time": "2024-08-16T08:59:18.962185",
     "status": "completed"
    },
    "tags": []
   },
   "outputs": [
    {
     "name": "stdout",
     "output_type": "stream",
     "text": [
      "528.0\n"
     ]
    }
   ],
   "source": [
    "# Calculate pay based on working 40 hours\n",
    "pay_fulltime = get_pay(40)\n",
    "print(pay_fulltime)"
   ]
  },
  {
   "cell_type": "code",
   "execution_count": 15,
   "id": "b677e91a",
   "metadata": {
    "execution": {
     "iopub.execute_input": "2024-08-16T08:59:18.999759Z",
     "iopub.status.busy": "2024-08-16T08:59:18.999331Z",
     "iopub.status.idle": "2024-08-16T08:59:19.005346Z",
     "shell.execute_reply": "2024-08-16T08:59:19.004151Z"
    },
    "papermill": {
     "duration": 0.018096,
     "end_time": "2024-08-16T08:59:19.007977",
     "exception": false,
     "start_time": "2024-08-16T08:59:18.989881",
     "status": "completed"
    },
    "tags": []
   },
   "outputs": [
    {
     "name": "stdout",
     "output_type": "stream",
     "text": [
      "422.4\n"
     ]
    }
   ],
   "source": [
    "pay_parttime = get_pay(32)\n",
    "print(pay_parttime)"
   ]
  },
  {
   "cell_type": "code",
   "execution_count": 16,
   "id": "7a1e6af9",
   "metadata": {
    "execution": {
     "iopub.execute_input": "2024-08-16T08:59:19.026946Z",
     "iopub.status.busy": "2024-08-16T08:59:19.026533Z",
     "iopub.status.idle": "2024-08-16T08:59:19.033142Z",
     "shell.execute_reply": "2024-08-16T08:59:19.031864Z"
    },
    "papermill": {
     "duration": 0.01905,
     "end_time": "2024-08-16T08:59:19.036055",
     "exception": false,
     "start_time": "2024-08-16T08:59:19.017005",
     "status": "completed"
    },
    "tags": []
   },
   "outputs": [],
   "source": [
    "def get_pay_with_more_inputs(num_hours, hourly_wage, tax_bracket):\n",
    "    # Pre-tax pay\n",
    "    pay_pretax = num_hours * hourly_wage   \n",
    "    # After-tax pay\n",
    "    pay_aftertax = pay_pretax * (1 - tax_bracket)\n",
    "    return pay_aftertax "
   ]
  },
  {
   "cell_type": "code",
   "execution_count": 17,
   "id": "7d17b864",
   "metadata": {
    "execution": {
     "iopub.execute_input": "2024-08-16T08:59:19.054793Z",
     "iopub.status.busy": "2024-08-16T08:59:19.054291Z",
     "iopub.status.idle": "2024-08-16T08:59:19.060650Z",
     "shell.execute_reply": "2024-08-16T08:59:19.059435Z"
    },
    "papermill": {
     "duration": 0.018748,
     "end_time": "2024-08-16T08:59:19.063597",
     "exception": false,
     "start_time": "2024-08-16T08:59:19.044849",
     "status": "completed"
    },
    "tags": []
   },
   "outputs": [
    {
     "name": "stdout",
     "output_type": "stream",
     "text": [
      "748.8000000000001\n"
     ]
    }
   ],
   "source": [
    "higher_pay_aftertax = get_pay_with_more_inputs(40, 24, .22)\n",
    "print(higher_pay_aftertax)"
   ]
  },
  {
   "cell_type": "code",
   "execution_count": 18,
   "id": "4f8db299",
   "metadata": {
    "execution": {
     "iopub.execute_input": "2024-08-16T08:59:19.082470Z",
     "iopub.status.busy": "2024-08-16T08:59:19.082016Z",
     "iopub.status.idle": "2024-08-16T08:59:19.089486Z",
     "shell.execute_reply": "2024-08-16T08:59:19.087574Z"
    },
    "papermill": {
     "duration": 0.020757,
     "end_time": "2024-08-16T08:59:19.092937",
     "exception": false,
     "start_time": "2024-08-16T08:59:19.072180",
     "status": "completed"
    },
    "tags": []
   },
   "outputs": [
    {
     "name": "stdout",
     "output_type": "stream",
     "text": [
      "528.0\n"
     ]
    }
   ],
   "source": [
    "same_pay_fulltime = get_pay_with_more_inputs(40, 15, .12)\n",
    "print(same_pay_fulltime)"
   ]
  },
  {
   "cell_type": "code",
   "execution_count": 19,
   "id": "c883069d",
   "metadata": {
    "execution": {
     "iopub.execute_input": "2024-08-16T08:59:19.112875Z",
     "iopub.status.busy": "2024-08-16T08:59:19.112466Z",
     "iopub.status.idle": "2024-08-16T08:59:19.119046Z",
     "shell.execute_reply": "2024-08-16T08:59:19.117561Z"
    },
    "papermill": {
     "duration": 0.019846,
     "end_time": "2024-08-16T08:59:19.122399",
     "exception": false,
     "start_time": "2024-08-16T08:59:19.102553",
     "status": "completed"
    },
    "tags": []
   },
   "outputs": [
    {
     "name": "stdout",
     "output_type": "stream",
     "text": [
      "I'm going to bed now.\n",
      "Have a good sleep and goodnight!\n"
     ]
    }
   ],
   "source": [
    "# Define the function with no arguments and with no return\n",
    "def print_goodnight():\n",
    "    print(\"I'm going to bed now.\")\n",
    "    print(\"Have a good sleep and goodnight!\")\n",
    "    \n",
    "    # call the function\n",
    "print_goodnight() "
   ]
  }
 ],
 "metadata": {
  "kaggle": {
   "accelerator": "none",
   "dataSources": [],
   "dockerImageVersionId": 30746,
   "isGpuEnabled": false,
   "isInternetEnabled": false,
   "language": "python",
   "sourceType": "notebook"
  },
  "kernelspec": {
   "display_name": "Python 3",
   "language": "python",
   "name": "python3"
  },
  "language_info": {
   "codemirror_mode": {
    "name": "ipython",
    "version": 3
   },
   "file_extension": ".py",
   "mimetype": "text/x-python",
   "name": "python",
   "nbconvert_exporter": "python",
   "pygments_lexer": "ipython3",
   "version": "3.10.13"
  },
  "papermill": {
   "default_parameters": {},
   "duration": 5.283885,
   "end_time": "2024-08-16T08:59:19.653392",
   "environment_variables": {},
   "exception": null,
   "input_path": "__notebook__.ipynb",
   "output_path": "__notebook__.ipynb",
   "parameters": {},
   "start_time": "2024-08-16T08:59:14.369507",
   "version": "2.5.0"
  }
 },
 "nbformat": 4,
 "nbformat_minor": 5
}
